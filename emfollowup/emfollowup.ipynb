{
 "cells": [
  {
   "cell_type": "markdown",
   "metadata": {},
   "source": [
    "# Demonstrate functions dealing with em follow-up"
   ]
  },
  {
   "cell_type": "code",
   "execution_count": 9,
   "metadata": {},
   "outputs": [
    {
     "data": {
      "text/plain": [
       "<module 'new_events' from '/home/kira/mypy/repos/BBHBot/emfollowup/new_events.py'>"
      ]
     },
     "execution_count": 9,
     "metadata": {},
     "output_type": "execute_result"
    }
   ],
   "source": [
    "import importlib\n",
    "import photometry_utils\n",
    "import new_events\n",
    "importlib.reload(photometry_utils)\n",
    "importlib.reload(new_events)"
   ]
  },
  {
   "cell_type": "code",
   "execution_count": 10,
   "metadata": {},
   "outputs": [
    {
     "name": "stdout",
     "output_type": "stream",
     "text": [
      "120 significant superevents in O4b\n",
      "https://gracedb.ligo.org/api/superevents/S250108ha/files/none\n",
      "https://gracedb.ligo.org/api/superevents/S241126dm/files/none\n",
      "https://gracedb.ligo.org/api/superevents/S241104a/files/none\n",
      "https://gracedb.ligo.org/api/superevents/S240624cd/files/none\n",
      "https://gracedb.ligo.org/api/superevents/S240423br/files/none\n",
      "https://gracedb.ligo.org/api/superevents/S240420aw/files/none\n",
      "0 events\n"
     ]
    }
   ],
   "source": [
    "from new_events import Gracedb\n",
    "params = Gracedb().get_new_events()"
   ]
  },
  {
   "cell_type": "code",
   "execution_count": null,
   "metadata": {},
   "outputs": [],
   "source": [
    "from new_events import Fritz\n",
    "\n",
    "eventid, dateid, a90, far, mass = params[0], params[12], params[16], params[13], params[22]\n",
    "trigger_status = Fritz(eventid, dateid, a90, far, mass).get_trigger_status()"
   ]
  },
  {
   "cell_type": "code",
   "execution_count": null,
   "metadata": {},
   "outputs": [],
   "source": []
  },
  {
   "cell_type": "code",
   "execution_count": null,
   "metadata": {},
   "outputs": [],
   "source": []
  },
  {
   "cell_type": "code",
   "execution_count": 7,
   "metadata": {},
   "outputs": [
    {
     "name": "stdout",
     "output_type": "stream",
     "text": [
      "76 / 98 events in O4b are not priority\n"
     ]
    },
    {
     "data": {
      "text/html": [
       "<div>\n",
       "<style scoped>\n",
       "    .dataframe tbody tr th:only-of-type {\n",
       "        vertical-align: middle;\n",
       "    }\n",
       "\n",
       "    .dataframe tbody tr th {\n",
       "        vertical-align: top;\n",
       "    }\n",
       "\n",
       "    .dataframe thead th {\n",
       "        text-align: right;\n",
       "    }\n",
       "</style>\n",
       "<table border=\"1\" class=\"dataframe\">\n",
       "  <thead>\n",
       "    <tr style=\"text-align: right;\">\n",
       "      <th></th>\n",
       "      <th>ID</th>\n",
       "      <th>Date last zfps</th>\n",
       "      <th>Status</th>\n",
       "      <th>Trigger</th>\n",
       "    </tr>\n",
       "  </thead>\n",
       "  <tbody>\n",
       "    <tr>\n",
       "      <th>0</th>\n",
       "      <td>S250118dp</td>\n",
       "      <td>2025-02-10 17:36:22.083</td>\n",
       "      <td>update ZFPS</td>\n",
       "      <td></td>\n",
       "    </tr>\n",
       "    <tr>\n",
       "      <th>1</th>\n",
       "      <td>S250119ag</td>\n",
       "      <td>2025-02-10 17:33:12.423</td>\n",
       "      <td>update ZFPS</td>\n",
       "      <td></td>\n",
       "    </tr>\n",
       "    <tr>\n",
       "      <th>2</th>\n",
       "      <td>S250109f</td>\n",
       "      <td>2025-01-24 21:21:42.071</td>\n",
       "      <td>update ZFPS</td>\n",
       "      <td></td>\n",
       "    </tr>\n",
       "    <tr>\n",
       "      <th>3</th>\n",
       "      <td>S250108eo</td>\n",
       "      <td>2025-01-24 21:18:05.241</td>\n",
       "      <td>update ZFPS</td>\n",
       "      <td></td>\n",
       "    </tr>\n",
       "    <tr>\n",
       "      <th>4</th>\n",
       "      <td>S241210cw</td>\n",
       "      <td>2025-01-24 23:32:19.070</td>\n",
       "      <td>update ZFPS</td>\n",
       "      <td></td>\n",
       "    </tr>\n",
       "    <tr>\n",
       "      <th>5</th>\n",
       "      <td>S241129aa</td>\n",
       "      <td>2025-01-24 23:35:29.537</td>\n",
       "      <td>update ZFPS</td>\n",
       "      <td></td>\n",
       "    </tr>\n",
       "    <tr>\n",
       "      <th>6</th>\n",
       "      <td>S241130n</td>\n",
       "      <td>2025-01-24 23:38:29.530</td>\n",
       "      <td>update ZFPS</td>\n",
       "      <td></td>\n",
       "    </tr>\n",
       "    <tr>\n",
       "      <th>7</th>\n",
       "      <td>S241114y</td>\n",
       "      <td>2025-01-24 21:04:56.625</td>\n",
       "      <td>update ZFPS</td>\n",
       "      <td>True</td>\n",
       "    </tr>\n",
       "    <tr>\n",
       "      <th>8</th>\n",
       "      <td>S241009em</td>\n",
       "      <td>NA</td>\n",
       "      <td>no AGN</td>\n",
       "      <td>True</td>\n",
       "    </tr>\n",
       "    <tr>\n",
       "      <th>9</th>\n",
       "      <td>S241006k</td>\n",
       "      <td>2025-01-14 13:42:29.916</td>\n",
       "      <td>update ZFPS</td>\n",
       "      <td>True</td>\n",
       "    </tr>\n",
       "    <tr>\n",
       "      <th>10</th>\n",
       "      <td>S240923ct</td>\n",
       "      <td>NA</td>\n",
       "      <td>no AGN</td>\n",
       "      <td>True</td>\n",
       "    </tr>\n",
       "    <tr>\n",
       "      <th>11</th>\n",
       "      <td>S240924a</td>\n",
       "      <td>2025-01-02 19:23:43.660</td>\n",
       "      <td>update ZFPS</td>\n",
       "      <td></td>\n",
       "    </tr>\n",
       "    <tr>\n",
       "      <th>12</th>\n",
       "      <td>S240919bn</td>\n",
       "      <td>2025-01-24 21:10:30.227</td>\n",
       "      <td>update ZFPS</td>\n",
       "      <td>True</td>\n",
       "    </tr>\n",
       "    <tr>\n",
       "      <th>13</th>\n",
       "      <td>S240908bs</td>\n",
       "      <td>2025-01-02 19:17:33.083</td>\n",
       "      <td>update ZFPS</td>\n",
       "      <td></td>\n",
       "    </tr>\n",
       "    <tr>\n",
       "      <th>14</th>\n",
       "      <td>S240902bq</td>\n",
       "      <td>2024-11-04 03:27:55.445</td>\n",
       "      <td>update ZFPS</td>\n",
       "      <td></td>\n",
       "    </tr>\n",
       "    <tr>\n",
       "      <th>15</th>\n",
       "      <td>S240705at</td>\n",
       "      <td>2024-07-21 00:00:00.000</td>\n",
       "      <td>complete</td>\n",
       "      <td></td>\n",
       "    </tr>\n",
       "    <tr>\n",
       "      <th>16</th>\n",
       "      <td>S240511i</td>\n",
       "      <td>2025-01-06 21:20:20.167</td>\n",
       "      <td>update ZFPS</td>\n",
       "      <td></td>\n",
       "    </tr>\n",
       "    <tr>\n",
       "      <th>17</th>\n",
       "      <td>S240513ei</td>\n",
       "      <td>2025-01-09 00:23:14.406</td>\n",
       "      <td>update ZFPS</td>\n",
       "      <td></td>\n",
       "    </tr>\n",
       "    <tr>\n",
       "      <th>18</th>\n",
       "      <td>S240514x</td>\n",
       "      <td>NA</td>\n",
       "      <td>no AGN</td>\n",
       "      <td></td>\n",
       "    </tr>\n",
       "    <tr>\n",
       "      <th>19</th>\n",
       "      <td>S240515m</td>\n",
       "      <td>2024-07-03 00:00:00.000</td>\n",
       "      <td>complete</td>\n",
       "      <td></td>\n",
       "    </tr>\n",
       "    <tr>\n",
       "      <th>20</th>\n",
       "      <td>S240527en</td>\n",
       "      <td>2025-01-09 00:44:24.512</td>\n",
       "      <td>update ZFPS</td>\n",
       "      <td></td>\n",
       "    </tr>\n",
       "    <tr>\n",
       "      <th>21</th>\n",
       "      <td>S240630t</td>\n",
       "      <td>2024-07-15 00:00:00.000</td>\n",
       "      <td>complete</td>\n",
       "      <td></td>\n",
       "    </tr>\n",
       "  </tbody>\n",
       "</table>\n",
       "</div>"
      ],
      "text/plain": [
       "           ID           Date last zfps       Status Trigger\n",
       "0   S250118dp  2025-02-10 17:36:22.083  update ZFPS        \n",
       "1   S250119ag  2025-02-10 17:33:12.423  update ZFPS        \n",
       "2    S250109f  2025-01-24 21:21:42.071  update ZFPS        \n",
       "3   S250108eo  2025-01-24 21:18:05.241  update ZFPS        \n",
       "4   S241210cw  2025-01-24 23:32:19.070  update ZFPS        \n",
       "5   S241129aa  2025-01-24 23:35:29.537  update ZFPS        \n",
       "6    S241130n  2025-01-24 23:38:29.530  update ZFPS        \n",
       "7    S241114y  2025-01-24 21:04:56.625  update ZFPS    True\n",
       "8   S241009em                       NA       no AGN    True\n",
       "9    S241006k  2025-01-14 13:42:29.916  update ZFPS    True\n",
       "10  S240923ct                       NA       no AGN    True\n",
       "11   S240924a  2025-01-02 19:23:43.660  update ZFPS        \n",
       "12  S240919bn  2025-01-24 21:10:30.227  update ZFPS    True\n",
       "13  S240908bs  2025-01-02 19:17:33.083  update ZFPS        \n",
       "14  S240902bq  2024-11-04 03:27:55.445  update ZFPS        \n",
       "15  S240705at  2024-07-21 00:00:00.000     complete        \n",
       "16   S240511i  2025-01-06 21:20:20.167  update ZFPS        \n",
       "17  S240513ei  2025-01-09 00:23:14.406  update ZFPS        \n",
       "18   S240514x                       NA       no AGN        \n",
       "19   S240515m  2024-07-03 00:00:00.000     complete        \n",
       "20  S240527en  2025-01-09 00:44:24.512  update ZFPS        \n",
       "21   S240630t  2024-07-15 00:00:00.000     complete        "
      ]
     },
     "execution_count": 7,
     "metadata": {},
     "output_type": "execute_result"
    }
   ],
   "source": [
    "# check photometry status\n",
    "\n",
    "from photometry_utils import PhotometryStatus\n",
    "PhotometryStatus('O4b').show_status()"
   ]
  },
  {
   "cell_type": "code",
   "execution_count": 6,
   "metadata": {},
   "outputs": [
    {
     "data": {
      "text/plain": [
       "<module 'photometry_utils' from '/home/kira/mypy/repos/BBHBot/emfollowup/photometry_utils.py'>"
      ]
     },
     "execution_count": 6,
     "metadata": {},
     "output_type": "execute_result"
    }
   ],
   "source": [
    "import importlib\n",
    "import photometry_utils\n",
    "importlib.reload(photometry_utils)"
   ]
  },
  {
   "cell_type": "code",
   "execution_count": null,
   "metadata": {},
   "outputs": [],
   "source": []
  }
 ],
 "metadata": {
  "kernelspec": {
   "display_name": "astroenv",
   "language": "python",
   "name": "python3"
  },
  "language_info": {
   "codemirror_mode": {
    "name": "ipython",
    "version": 3
   },
   "file_extension": ".py",
   "mimetype": "text/x-python",
   "name": "python",
   "nbconvert_exporter": "python",
   "pygments_lexer": "ipython3",
   "version": "3.12.3"
  }
 },
 "nbformat": 4,
 "nbformat_minor": 2
}
