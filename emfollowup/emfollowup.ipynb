{
 "cells": [
  {
   "cell_type": "markdown",
   "metadata": {},
   "source": [
    "# Demonstrate functions dealing with em follow-up"
   ]
  },
  {
   "cell_type": "code",
   "execution_count": 5,
   "metadata": {},
   "outputs": [
    {
     "data": {
      "text/plain": [
       "<module 'new_events_utils' from '/home/kira/mypy/repos/BBHBot/emfollowup/new_events_utils.py'>"
      ]
     },
     "execution_count": 5,
     "metadata": {},
     "output_type": "execute_result"
    }
   ],
   "source": [
    "import importlib\n",
    "import photometry_utils\n",
    "import new_events_utils\n",
    "importlib.reload(photometry_utils)\n",
    "importlib.reload(new_events_utils)"
   ]
  },
  {
   "cell_type": "code",
   "execution_count": 2,
   "metadata": {},
   "outputs": [],
   "source": [
    "import yaml\n",
    "with open('../credentials.yaml', 'r') as file:\n",
    "    credentials = yaml.safe_load(file)\n",
    "github_token = credentials['github_token']\n",
    "kowalski_token = credentials['kowalski_token']\n",
    "kowalski_password = credentials['kowalski_password']\n",
    "fritz_token = credentials['fritz_token']    \n",
    "allocation = credentials['allocation']  "
   ]
  },
  {
   "cell_type": "markdown",
   "metadata": {},
   "source": [
    "## new events"
   ]
  },
  {
   "cell_type": "code",
   "execution_count": 4,
   "metadata": {},
   "outputs": [
    {
     "name": "stdout",
     "output_type": "stream",
     "text": [
      "111 significant superevents in O4b\n",
      "https://gracedb.ligo.org/api/superevents/S250108ha/files/none\n",
      "https://gracedb.ligo.org/api/superevents/S241126dm/files/none\n",
      "https://gracedb.ligo.org/api/superevents/S241104a/files/none\n",
      "https://gracedb.ligo.org/api/superevents/S240624cd/files/none\n",
      "https://gracedb.ligo.org/api/superevents/S240423br/files/none\n",
      "https://gracedb.ligo.org/api/superevents/S240420aw/files/none\n",
      "0 events (cut 7 low prob bbh events)\n"
     ]
    }
   ],
   "source": [
    "# get events from gracedb that we haven't already saved\n",
    "\n",
    "from new_events_utils import Gracedb\n",
    "params = Gracedb().get_new_events()"
   ]
  },
  {
   "cell_type": "code",
   "execution_count": 81,
   "metadata": {},
   "outputs": [
    {
     "name": "stdout",
     "output_type": "stream",
     "text": [
      "There are currently 102 observation plans generated\n",
      "S240630t predates trigger\n",
      "S240629by predates trigger\n",
      "0 errors, 2 correct, 0 inspect\n"
     ]
    }
   ],
   "source": [
    "# check the trigger status on fritz and check if we handled the event correctly\n",
    "\n",
    "eventid = [x[0] for x in params]\n",
    "dateid = [x[12] for x in params]\n",
    "a90 = [x[16] for x in params]\n",
    "far = [x[9] for x in params]\n",
    "mass = [x[22] for x in params]\n",
    "\n",
    "from new_events_utils import Fritz\n",
    "trigger_status = Fritz(eventid, dateid, a90, far, mass, allocation, fritz_token).get_trigger_status()"
   ]
  },
  {
   "cell_type": "code",
   "execution_count": 98,
   "metadata": {},
   "outputs": [
    {
     "name": "stdout",
     "output_type": "stream",
     "text": [
      "New events saved to dictionary.\n"
     ]
    },
    {
     "data": {
      "text/html": [
       "<div>\n",
       "<style scoped>\n",
       "    .dataframe tbody tr th:only-of-type {\n",
       "        vertical-align: middle;\n",
       "    }\n",
       "\n",
       "    .dataframe tbody tr th {\n",
       "        vertical-align: top;\n",
       "    }\n",
       "\n",
       "    .dataframe thead th {\n",
       "        text-align: right;\n",
       "    }\n",
       "</style>\n",
       "<table border=\"1\" class=\"dataframe\">\n",
       "  <thead>\n",
       "    <tr style=\"text-align: right;\">\n",
       "      <th></th>\n",
       "      <th>GW MJD</th>\n",
       "      <th>90% Area (deg2)</th>\n",
       "      <th>50% Area (deg2)</th>\n",
       "      <th>Distance (Gpc)</th>\n",
       "      <th>FAR (years/FA)</th>\n",
       "      <th>Mass (M_sol)</th>\n",
       "      <th>gcnids</th>\n",
       "      <th>trigger</th>\n",
       "      <th>plan time</th>\n",
       "      <th>plan probability</th>\n",
       "      <th>plan start</th>\n",
       "      <th>cadence</th>\n",
       "    </tr>\n",
       "    <tr>\n",
       "      <th>graceids</th>\n",
       "      <th></th>\n",
       "      <th></th>\n",
       "      <th></th>\n",
       "      <th></th>\n",
       "      <th></th>\n",
       "      <th></th>\n",
       "      <th></th>\n",
       "      <th></th>\n",
       "      <th></th>\n",
       "      <th></th>\n",
       "      <th></th>\n",
       "      <th></th>\n",
       "    </tr>\n",
       "  </thead>\n",
       "  <tbody>\n",
       "    <tr>\n",
       "      <th>S240630t</th>\n",
       "      <td>60491</td>\n",
       "      <td>670</td>\n",
       "      <td>188</td>\n",
       "      <td>3.16</td>\n",
       "      <td>3200</td>\n",
       "      <td>116</td>\n",
       "      <td>2024-06-30T10:17:03</td>\n",
       "      <td>predates trigger</td>\n",
       "      <td></td>\n",
       "      <td></td>\n",
       "      <td></td>\n",
       "      <td></td>\n",
       "    </tr>\n",
       "    <tr>\n",
       "      <th>S240629by</th>\n",
       "      <td>60491</td>\n",
       "      <td>66</td>\n",
       "      <td>10</td>\n",
       "      <td>1.17</td>\n",
       "      <td>100</td>\n",
       "      <td>47</td>\n",
       "      <td>2024-06-29T14:52:57</td>\n",
       "      <td>predates trigger</td>\n",
       "      <td></td>\n",
       "      <td></td>\n",
       "      <td></td>\n",
       "      <td></td>\n",
       "    </tr>\n",
       "  </tbody>\n",
       "</table>\n",
       "</div>"
      ],
      "text/plain": [
       "           GW MJD  90% Area (deg2)  50% Area (deg2)  Distance (Gpc)  \\\n",
       "graceids                                                              \n",
       "S240630t    60491              670              188            3.16   \n",
       "S240629by   60491               66               10            1.17   \n",
       "\n",
       "           FAR (years/FA)  Mass (M_sol)               gcnids  \\\n",
       "graceids                                                       \n",
       "S240630t             3200           116  2024-06-30T10:17:03   \n",
       "S240629by             100            47  2024-06-29T14:52:57   \n",
       "\n",
       "                    trigger plan time plan probability plan start cadence  \n",
       "graceids                                                                   \n",
       "S240630t   predates trigger                                                \n",
       "S240629by  predates trigger                                                "
      ]
     },
     "execution_count": 98,
     "metadata": {},
     "output_type": "execute_result"
    }
   ],
   "source": [
    "# compile event information and save to the dictionary of events\n",
    "\n",
    "from new_events import NewEventsToDict\n",
    "df = NewEventsToDict(params, trigger_status, notebook=True).save_data()\n",
    "df"
   ]
  },
  {
   "cell_type": "code",
   "execution_count": 139,
   "metadata": {},
   "outputs": [
    {
     "name": "stdout",
     "output_type": "stream",
     "text": [
      "0 events are missing crossmatch: []\n",
      "3584 CATNorth AGN found in localization volume for S240630t\n",
      "106 CATNorth AGN found in localization volume for S240629by\n",
      "2827 Quaia AGN found in localization volume for S240630t\n",
      "50 Quaia AGN found in localization volume for S240629by\n",
      "S240630t already in dictionary\n",
      "S240629by already in dictionary\n"
     ]
    }
   ],
   "source": [
    "skymap_str = [x[18] for x in params]\n",
    "zmin = [x[19] for x in params]\n",
    "zmax = [x[20] for x in params]\n",
    "\n",
    "from new_events import KowalskiCrossmatch\n",
    "crossmatch = KowalskiCrossmatch(kowalski_password, eventid, skymap_str, dateid, zmin, zmax)\n",
    "new_events=crossmatch.check_events_to_crossmatch()\n",
    "matches = crossmatch.get_crossmatches()"
   ]
  },
  {
   "cell_type": "code",
   "execution_count": 145,
   "metadata": {},
   "outputs": [
    {
     "name": "stdout",
     "output_type": "stream",
     "text": [
      "22 O4b events with FAR > 10 and mass > 60 and area < 1000 sq deg\n"
     ]
    },
    {
     "data": {
      "image/png": "[encoded data removed]",
      "text/plain": [
       "<Figure size 1000x200 with 1 Axes>"
      ]
     },
     "metadata": {},
     "output_type": "display_data"
    }
   ],
   "source": [
    "from new_events import PushEventsPublic\n",
    "df, priority, trigger_df, error_triggers = PushEventsPublic('test', push=False, verbose=True).format_and_push()"
   ]
  },
  {
   "cell_type": "code",
   "execution_count": 148,
   "metadata": {},
   "outputs": [
    {
     "data": {
      "text/html": [
       "<div>\n",
       "<style scoped>\n",
       "    .dataframe tbody tr th:only-of-type {\n",
       "        vertical-align: middle;\n",
       "    }\n",
       "\n",
       "    .dataframe tbody tr th {\n",
       "        vertical-align: top;\n",
       "    }\n",
       "\n",
       "    .dataframe thead th {\n",
       "        text-align: right;\n",
       "    }\n",
       "</style>\n",
       "<table border=\"1\" class=\"dataframe\">\n",
       "  <thead>\n",
       "    <tr style=\"text-align: right;\">\n",
       "      <th></th>\n",
       "      <th>graceids</th>\n",
       "      <th>GW MJD</th>\n",
       "      <th>90% Area (deg2)</th>\n",
       "      <th>50% Area (deg2)</th>\n",
       "      <th>Distance (Gpc)</th>\n",
       "      <th>FAR (years/FA)</th>\n",
       "      <th>Mass (M_sol)</th>\n",
       "      <th>gcnids</th>\n",
       "      <th>time</th>\n",
       "      <th>probability</th>\n",
       "      <th>start</th>\n",
       "      <th>cadence</th>\n",
       "      <th>comments</th>\n",
       "    </tr>\n",
       "  </thead>\n",
       "  <tbody>\n",
       "    <tr>\n",
       "      <th>0</th>\n",
       "      <td>[S241125n](https://gracedb.ligo.org/superevent...</td>\n",
       "      <td>60639</td>\n",
       "      <td>1956</td>\n",
       "      <td>526</td>\n",
       "      <td>4.47</td>\n",
       "      <td>3.330000e+01</td>\n",
       "      <td>151</td>\n",
       "      <td>[2024-11-25T01:01:17](https://fritz.science/gc...</td>\n",
       "      <td>900.0</td>\n",
       "      <td>0.50</td>\n",
       "      <td></td>\n",
       "      <td></td>\n",
       "      <td>Swift/Bat coincident detection</td>\n",
       "    </tr>\n",
       "    <tr>\n",
       "      <th>1</th>\n",
       "      <td>[S241114y](https://gracedb.ligo.org/superevent...</td>\n",
       "      <td>60628</td>\n",
       "      <td>152</td>\n",
       "      <td>43</td>\n",
       "      <td>2.51</td>\n",
       "      <td>3.500000e+05</td>\n",
       "      <td>92</td>\n",
       "      <td>[2024-11-14T02:47:12](https://fritz.science/gc...</td>\n",
       "      <td>1140.0</td>\n",
       "      <td>0.86</td>\n",
       "      <td>2024-11-15T01:42:44.719</td>\n",
       "      <td>[2024.11.22, 2024.11.29, 2024.12.06, 2024.12.1...</td>\n",
       "      <td></td>\n",
       "    </tr>\n",
       "    <tr>\n",
       "      <th>2</th>\n",
       "      <td>[S241009em](https://gracedb.ligo.org/supereven...</td>\n",
       "      <td>60593</td>\n",
       "      <td>25</td>\n",
       "      <td>7</td>\n",
       "      <td>2.78</td>\n",
       "      <td>1.120000e+01</td>\n",
       "      <td>93</td>\n",
       "      <td>[2024-10-09T22:04:56](https://fritz.science/gc...</td>\n",
       "      <td>120.0</td>\n",
       "      <td>0.76</td>\n",
       "      <td>2024-10-12T09:00:53.912</td>\n",
       "      <td>[2024.10.19, 2024.10.26, 2024.11.02, 2024.11.0...</td>\n",
       "      <td></td>\n",
       "    </tr>\n",
       "    <tr>\n",
       "      <th>3</th>\n",
       "      <td>[S241006k](https://gracedb.ligo.org/superevent...</td>\n",
       "      <td>60589</td>\n",
       "      <td>263</td>\n",
       "      <td>51</td>\n",
       "      <td>1.90</td>\n",
       "      <td>5.300000e+33</td>\n",
       "      <td>80</td>\n",
       "      <td>[2024-10-06T01:53:34](https://fritz.science/gc...</td>\n",
       "      <td>1260.0</td>\n",
       "      <td>0.91</td>\n",
       "      <td>2024-10-06T02:20:20.960</td>\n",
       "      <td>[2024.10.13, 2024.10.20, 2024.10.27, 2024.11.0...</td>\n",
       "      <td></td>\n",
       "    </tr>\n",
       "    <tr>\n",
       "      <th>4</th>\n",
       "      <td>[S240923ct](https://gracedb.ligo.org/supereven...</td>\n",
       "      <td>60577</td>\n",
       "      <td>216</td>\n",
       "      <td>45</td>\n",
       "      <td>4.02</td>\n",
       "      <td>4.100000e+07</td>\n",
       "      <td>140</td>\n",
       "      <td>[2024-09-23T20:40:06](https://fritz.science/gc...</td>\n",
       "      <td>720.0</td>\n",
       "      <td>0.73</td>\n",
       "      <td>2024-09-24T02:36:34.228</td>\n",
       "      <td>[2024.10.01, 2024.10.08, 2024.10.15, 2024.10.2...</td>\n",
       "      <td></td>\n",
       "    </tr>\n",
       "    <tr>\n",
       "      <th>5</th>\n",
       "      <td>[S240919bn](https://gracedb.ligo.org/supereven...</td>\n",
       "      <td>60572</td>\n",
       "      <td>16</td>\n",
       "      <td>4</td>\n",
       "      <td>1.71</td>\n",
       "      <td>7.900000e+11</td>\n",
       "      <td>61</td>\n",
       "      <td>[2024-09-19T06:15:59](https://fritz.science/gc...</td>\n",
       "      <td>180.0</td>\n",
       "      <td>0.90</td>\n",
       "      <td>2024-09-19T06:21:30.794</td>\n",
       "      <td>[2024.09.26, 2024.10.03, 2024.10.10, 2024.10.1...</td>\n",
       "      <td></td>\n",
       "    </tr>\n",
       "  </tbody>\n",
       "</table>\n",
       "</div>"
      ],
      "text/plain": [
       "                                            graceids  GW MJD  90% Area (deg2)  \\\n",
       "0  [S241125n](https://gracedb.ligo.org/superevent...   60639             1956   \n",
       "1  [S241114y](https://gracedb.ligo.org/superevent...   60628              152   \n",
       "2  [S241009em](https://gracedb.ligo.org/supereven...   60593               25   \n",
       "3  [S241006k](https://gracedb.ligo.org/superevent...   60589              263   \n",
       "4  [S240923ct](https://gracedb.ligo.org/supereven...   60577              216   \n",
       "5  [S240919bn](https://gracedb.ligo.org/supereven...   60572               16   \n",
       "\n",
       "   50% Area (deg2)  Distance (Gpc)  FAR (years/FA)  Mass (M_sol)  \\\n",
       "0              526            4.47    3.330000e+01           151   \n",
       "1               43            2.51    3.500000e+05            92   \n",
       "2                7            2.78    1.120000e+01            93   \n",
       "3               51            1.90    5.300000e+33            80   \n",
       "4               45            4.02    4.100000e+07           140   \n",
       "5                4            1.71    7.900000e+11            61   \n",
       "\n",
       "                                              gcnids    time  probability  \\\n",
       "0  [2024-11-25T01:01:17](https://fritz.science/gc...   900.0         0.50   \n",
       "1  [2024-11-14T02:47:12](https://fritz.science/gc...  1140.0         0.86   \n",
       "2  [2024-10-09T22:04:56](https://fritz.science/gc...   120.0         0.76   \n",
       "3  [2024-10-06T01:53:34](https://fritz.science/gc...  1260.0         0.91   \n",
       "4  [2024-09-23T20:40:06](https://fritz.science/gc...   720.0         0.73   \n",
       "5  [2024-09-19T06:15:59](https://fritz.science/gc...   180.0         0.90   \n",
       "\n",
       "                     start                                            cadence  \\\n",
       "0                                                                               \n",
       "1  2024-11-15T01:42:44.719  [2024.11.22, 2024.11.29, 2024.12.06, 2024.12.1...   \n",
       "2  2024-10-12T09:00:53.912  [2024.10.19, 2024.10.26, 2024.11.02, 2024.11.0...   \n",
       "3  2024-10-06T02:20:20.960  [2024.10.13, 2024.10.20, 2024.10.27, 2024.11.0...   \n",
       "4  2024-09-24T02:36:34.228  [2024.10.01, 2024.10.08, 2024.10.15, 2024.10.2...   \n",
       "5  2024-09-19T06:21:30.794  [2024.09.26, 2024.10.03, 2024.10.10, 2024.10.1...   \n",
       "\n",
       "                         comments  \n",
       "0  Swift/Bat coincident detection  \n",
       "1                                  \n",
       "2                                  \n",
       "3                                  \n",
       "4                                  \n",
       "5                                  "
      ]
     },
     "execution_count": 148,
     "metadata": {},
     "output_type": "execute_result"
    }
   ],
   "source": [
    "trigger_df"
   ]
  },
  {
   "cell_type": "markdown",
   "metadata": {},
   "source": [
    "# photometry"
   ]
  },
  {
   "cell_type": "code",
   "execution_count": 132,
   "metadata": {},
   "outputs": [
    {
     "data": {
      "text/plain": [
       "<module 'photometry_utils' from '/home/kira/mypy/repos/BBHBot/emfollowup/photometry_utils.py'>"
      ]
     },
     "execution_count": 132,
     "metadata": {},
     "output_type": "execute_result"
    }
   ],
   "source": [
    "import importlib\n",
    "import photometry_utils\n",
    "importlib.reload(photometry_utils)"
   ]
  },
  {
   "cell_type": "code",
   "execution_count": 6,
   "metadata": {},
   "outputs": [
    {
     "name": "stdout",
     "output_type": "stream",
     "text": [
      "76 / 98 events in O4b are not priority\n"
     ]
    },
    {
     "data": {
      "text/html": [
       "<div>\n",
       "<style scoped>\n",
       "    .dataframe tbody tr th:only-of-type {\n",
       "        vertical-align: middle;\n",
       "    }\n",
       "\n",
       "    .dataframe tbody tr th {\n",
       "        vertical-align: top;\n",
       "    }\n",
       "\n",
       "    .dataframe thead th {\n",
       "        text-align: right;\n",
       "    }\n",
       "</style>\n",
       "<table border=\"1\" class=\"dataframe\">\n",
       "  <thead>\n",
       "    <tr style=\"text-align: right;\">\n",
       "      <th></th>\n",
       "      <th>ID</th>\n",
       "      <th>Date last zfps</th>\n",
       "      <th>Status</th>\n",
       "      <th>Trigger</th>\n",
       "    </tr>\n",
       "  </thead>\n",
       "  <tbody>\n",
       "    <tr>\n",
       "      <th>0</th>\n",
       "      <td>S240630t</td>\n",
       "      <td></td>\n",
       "      <td>needs ZFPS</td>\n",
       "      <td></td>\n",
       "    </tr>\n",
       "    <tr>\n",
       "      <th>1</th>\n",
       "      <td>S250118dp</td>\n",
       "      <td>2025-02-11 18:14:52.995</td>\n",
       "      <td>update ZFPS</td>\n",
       "      <td></td>\n",
       "    </tr>\n",
       "    <tr>\n",
       "      <th>2</th>\n",
       "      <td>S250119ag</td>\n",
       "      <td>2025-02-11 18:19:05.806</td>\n",
       "      <td>update ZFPS</td>\n",
       "      <td></td>\n",
       "    </tr>\n",
       "    <tr>\n",
       "      <th>3</th>\n",
       "      <td>S250109f</td>\n",
       "      <td>2025-01-24 21:21:42.071</td>\n",
       "      <td>update ZFPS</td>\n",
       "      <td></td>\n",
       "    </tr>\n",
       "    <tr>\n",
       "      <th>4</th>\n",
       "      <td>S250108eo</td>\n",
       "      <td>2025-01-24 21:18:05.241</td>\n",
       "      <td>update ZFPS</td>\n",
       "      <td></td>\n",
       "    </tr>\n",
       "    <tr>\n",
       "      <th>5</th>\n",
       "      <td>S241210cw</td>\n",
       "      <td>2025-01-24 23:32:19.070</td>\n",
       "      <td>update ZFPS</td>\n",
       "      <td></td>\n",
       "    </tr>\n",
       "    <tr>\n",
       "      <th>6</th>\n",
       "      <td>S241129aa</td>\n",
       "      <td>2025-01-24 23:35:29.537</td>\n",
       "      <td>update ZFPS</td>\n",
       "      <td></td>\n",
       "    </tr>\n",
       "    <tr>\n",
       "      <th>7</th>\n",
       "      <td>S241130n</td>\n",
       "      <td>2025-01-24 23:38:29.530</td>\n",
       "      <td>update ZFPS</td>\n",
       "      <td></td>\n",
       "    </tr>\n",
       "    <tr>\n",
       "      <th>8</th>\n",
       "      <td>S241114y</td>\n",
       "      <td>2025-01-24 21:04:56.625</td>\n",
       "      <td>update ZFPS</td>\n",
       "      <td>True</td>\n",
       "    </tr>\n",
       "    <tr>\n",
       "      <th>9</th>\n",
       "      <td>S241009em</td>\n",
       "      <td>NA</td>\n",
       "      <td>no AGN</td>\n",
       "      <td>True</td>\n",
       "    </tr>\n",
       "    <tr>\n",
       "      <th>10</th>\n",
       "      <td>S241006k</td>\n",
       "      <td>2025-01-14 13:42:29.916</td>\n",
       "      <td>update ZFPS</td>\n",
       "      <td>True</td>\n",
       "    </tr>\n",
       "    <tr>\n",
       "      <th>11</th>\n",
       "      <td>S240923ct</td>\n",
       "      <td>NA</td>\n",
       "      <td>no AGN</td>\n",
       "      <td>True</td>\n",
       "    </tr>\n",
       "    <tr>\n",
       "      <th>12</th>\n",
       "      <td>S240924a</td>\n",
       "      <td>2025-01-02 19:23:43.660</td>\n",
       "      <td>update ZFPS</td>\n",
       "      <td></td>\n",
       "    </tr>\n",
       "    <tr>\n",
       "      <th>13</th>\n",
       "      <td>S240919bn</td>\n",
       "      <td>2025-01-24 21:10:30.227</td>\n",
       "      <td>update ZFPS</td>\n",
       "      <td>True</td>\n",
       "    </tr>\n",
       "    <tr>\n",
       "      <th>14</th>\n",
       "      <td>S240908bs</td>\n",
       "      <td>2025-01-02 19:17:33.083</td>\n",
       "      <td>update ZFPS</td>\n",
       "      <td></td>\n",
       "    </tr>\n",
       "    <tr>\n",
       "      <th>15</th>\n",
       "      <td>S240902bq</td>\n",
       "      <td>2024-11-04 03:27:55.445</td>\n",
       "      <td>update ZFPS</td>\n",
       "      <td></td>\n",
       "    </tr>\n",
       "    <tr>\n",
       "      <th>16</th>\n",
       "      <td>S240705at</td>\n",
       "      <td>2024-07-21 00:00:00.000</td>\n",
       "      <td>complete</td>\n",
       "      <td></td>\n",
       "    </tr>\n",
       "    <tr>\n",
       "      <th>17</th>\n",
       "      <td>S240511i</td>\n",
       "      <td>2025-01-06 21:20:20.167</td>\n",
       "      <td>update ZFPS</td>\n",
       "      <td></td>\n",
       "    </tr>\n",
       "    <tr>\n",
       "      <th>18</th>\n",
       "      <td>S240513ei</td>\n",
       "      <td>2025-01-09 00:23:14.406</td>\n",
       "      <td>update ZFPS</td>\n",
       "      <td></td>\n",
       "    </tr>\n",
       "    <tr>\n",
       "      <th>19</th>\n",
       "      <td>S240514x</td>\n",
       "      <td>NA</td>\n",
       "      <td>no AGN</td>\n",
       "      <td></td>\n",
       "    </tr>\n",
       "    <tr>\n",
       "      <th>20</th>\n",
       "      <td>S240515m</td>\n",
       "      <td>2024-07-03 00:00:00.000</td>\n",
       "      <td>complete</td>\n",
       "      <td></td>\n",
       "    </tr>\n",
       "    <tr>\n",
       "      <th>21</th>\n",
       "      <td>S240527en</td>\n",
       "      <td>2025-01-09 00:44:24.512</td>\n",
       "      <td>update ZFPS</td>\n",
       "      <td></td>\n",
       "    </tr>\n",
       "  </tbody>\n",
       "</table>\n",
       "</div>"
      ],
      "text/plain": [
       "           ID           Date last zfps       Status Trigger\n",
       "0    S240630t                            needs ZFPS        \n",
       "1   S250118dp  2025-02-11 18:14:52.995  update ZFPS        \n",
       "2   S250119ag  2025-02-11 18:19:05.806  update ZFPS        \n",
       "3    S250109f  2025-01-24 21:21:42.071  update ZFPS        \n",
       "4   S250108eo  2025-01-24 21:18:05.241  update ZFPS        \n",
       "5   S241210cw  2025-01-24 23:32:19.070  update ZFPS        \n",
       "6   S241129aa  2025-01-24 23:35:29.537  update ZFPS        \n",
       "7    S241130n  2025-01-24 23:38:29.530  update ZFPS        \n",
       "8    S241114y  2025-01-24 21:04:56.625  update ZFPS    True\n",
       "9   S241009em                       NA       no AGN    True\n",
       "10   S241006k  2025-01-14 13:42:29.916  update ZFPS    True\n",
       "11  S240923ct                       NA       no AGN    True\n",
       "12   S240924a  2025-01-02 19:23:43.660  update ZFPS        \n",
       "13  S240919bn  2025-01-24 21:10:30.227  update ZFPS    True\n",
       "14  S240908bs  2025-01-02 19:17:33.083  update ZFPS        \n",
       "15  S240902bq  2024-11-04 03:27:55.445  update ZFPS        \n",
       "16  S240705at  2024-07-21 00:00:00.000     complete        \n",
       "17   S240511i  2025-01-06 21:20:20.167  update ZFPS        \n",
       "18  S240513ei  2025-01-09 00:23:14.406  update ZFPS        \n",
       "19   S240514x                       NA       no AGN        \n",
       "20   S240515m  2024-07-03 00:00:00.000     complete        \n",
       "21  S240527en  2025-01-09 00:44:24.512  update ZFPS        "
      ]
     },
     "execution_count": 6,
     "metadata": {},
     "output_type": "execute_result"
    }
   ],
   "source": [
    "# check photometry status\n",
    "\n",
    "from photometry_utils import PhotometryStatus\n",
    "PhotometryStatus('O4b').show_status()"
   ]
  },
  {
   "cell_type": "code",
   "execution_count": 133,
   "metadata": {},
   "outputs": [
    {
     "name": "stdout",
     "output_type": "stream",
     "text": [
      "last photometry request for S241114y was on 2025-01-24 21:04:56.625\n",
      "Found saved photometry for 3819 / 3825 coords crossmatched\n",
      "3819 coords are valid for update photometry\n",
      "After batching dates with window size 60, created 4 batches\n",
      "Fewer than 1500 AGN - submit in one batch\n",
      "Fewer than 1500 AGN - submit in one batch\n",
      "Fewer than 1500 AGN - submit in one batch\n",
      "More than 1500 AGN - submit in 3 batches\n",
      "After batching for ZFPS, retrieved 3819 objects in 6 batches\n"
     ]
    }
   ],
   "source": [
    "from photometry_utils import PhotometryCoords\n",
    "ra, dec, jd = PhotometryCoords(action='update', graceid='S241114y', catalog=['catnorth'], verbose=True).get_photometry_coords()"
   ]
  },
  {
   "cell_type": "code",
   "execution_count": 134,
   "metadata": {},
   "outputs": [],
   "source": [
    "from photometry_utils import GetPhotometry\n",
    "\n",
    "#GetPhotometry(graceid='S241114y', ra, dec, jd)"
   ]
  },
  {
   "cell_type": "code",
   "execution_count": null,
   "metadata": {},
   "outputs": [],
   "source": [
    "from photometry_utils import SavePhotometry\n",
    "\n",
    "#SavePhotometry(graceid='S241114y', batch_codes=['11127'], action='update').save_photometry()"
   ]
  },
  {
   "cell_type": "markdown",
   "metadata": {},
   "source": [
    "## flares"
   ]
  },
  {
   "cell_type": "code",
   "execution_count": null,
   "metadata": {},
   "outputs": [],
   "source": []
  },
  {
   "cell_type": "code",
   "execution_count": null,
   "metadata": {},
   "outputs": [],
   "source": []
  },
  {
   "cell_type": "code",
   "execution_count": null,
   "metadata": {},
   "outputs": [],
   "source": []
  }
 ],
 "metadata": {
  "kernelspec": {
   "display_name": "astroenv",
   "language": "python",
   "name": "python3"
  },
  "language_info": {
   "codemirror_mode": {
    "name": "ipython",
    "version": 3
   },
   "file_extension": ".py",
   "mimetype": "text/x-python",
   "name": "python",
   "nbconvert_exporter": "python",
   "pygments_lexer": "ipython3",
   "version": "3.12.3"
  }
 },
 "nbformat": 4,
 "nbformat_minor": 2
}
