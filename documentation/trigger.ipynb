{
 "cells": [
  {
   "cell_type": "code",
   "execution_count": 3,
   "metadata": {},
   "outputs": [],
   "source": [
    "import sys\n",
    "import os\n",
    "sys.path.append(os.path.abspath(os.path.join(os.getcwd(), '..')))"
   ]
  },
  {
   "cell_type": "code",
   "execution_count": 5,
   "metadata": {},
   "outputs": [],
   "source": [
    "from trigger_utils.trigger_utils import get_kowalski_ztf_queue\n",
    "import yaml\n",
    "\n",
    "with open('../config/Credentials.yaml', 'r') as file:\n",
    "    credentials = yaml.safe_load(file)\n",
    "fritz_token = credentials['fritz_token']\n",
    "ztf_allocation = credentials['allocation']"
   ]
  },
  {
   "cell_type": "code",
   "execution_count": 7,
   "metadata": {},
   "outputs": [
    {
     "data": {
      "text/plain": [
       "{'status': 'success',\n",
       " 'data': {'queue_names': ['Caltech_Prince_2025-05-01',\n",
       "   'Caltech_Prince_2025-05-03',\n",
       "   'EP_2025-04-30_12',\n",
       "   'EP_2025-04-30_14',\n",
       "   'EP_2025-04-30_15',\n",
       "   'EP_2025-04-30_16',\n",
       "   'EP_2025-04-30_5',\n",
       "   'EP_2025-04-30_6',\n",
       "   'EP_2025-04-30_8',\n",
       "   'EP_2025-04-30_9',\n",
       "   'ToO_S250319bu_BBHBot_2025-05-01 01:25:32.352',\n",
       "   'Twilight_2025-04-30_e',\n",
       "   'Twilight_2025-04-30_m',\n",
       "   'Twilight_2025-05-01_e',\n",
       "   'Twilight_2025-05-01_m',\n",
       "   'Twilight_2025-05-02_e',\n",
       "   'Twilight_2025-05-02_m',\n",
       "   'Twilight_2025-05-03_e',\n",
       "   'Twilight_2025-05-03_m',\n",
       "   'Twilight_2025-05-04_e',\n",
       "   'Twilight_2025-05-04_m',\n",
       "   'default',\n",
       "   'fallback',\n",
       "   'missed_obs']},\n",
       " 'version': '1.4.0+fritz.86bd000'}"
      ]
     },
     "execution_count": 7,
     "metadata": {},
     "output_type": "execute_result"
    }
   ],
   "source": [
    "# print the current queue\n",
    "\n",
    "current_ztf_queue = get_kowalski_ztf_queue(fritz_token, ztf_allocation)\n",
    "current_ztf_queue"
   ]
  },
  {
   "cell_type": "code",
   "execution_count": 10,
   "metadata": {},
   "outputs": [
    {
     "name": "stdout",
     "output_type": "stream",
     "text": [
      "Already submitted to queue\n",
      "Total time: 2940, probability: 0.7988238394848364\n"
     ]
    }
   ],
   "source": [
    "from trigger_utils.trigger_utils import get_plan_stats\n",
    "\n",
    "# get a specific plan\n",
    "gcnevent_id=13342\n",
    "queuename=\"S250319bu_BBHBot_2025-04-03 01:18:21.260\"\n",
    "stats = get_plan_stats(gcnevent_id, queuename, fritz_token, mode='')"
   ]
  }
 ],
 "metadata": {
  "kernelspec": {
   "display_name": "astroenv",
   "language": "python",
   "name": "python3"
  },
  "language_info": {
   "codemirror_mode": {
    "name": "ipython",
    "version": 3
   },
   "file_extension": ".py",
   "mimetype": "text/x-python",
   "name": "python",
   "nbconvert_exporter": "python",
   "pygments_lexer": "ipython3",
   "version": "3.12.3"
  }
 },
 "nbformat": 4,
 "nbformat_minor": 2
}
