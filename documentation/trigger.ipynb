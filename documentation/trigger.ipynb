{
 "cells": [
  {
   "cell_type": "code",
   "execution_count": 1,
   "metadata": {},
   "outputs": [],
   "source": [
    "import sys\n",
    "import os\n",
    "\n",
    "sys.path.append(os.path.abspath(os.path.join(os.getcwd(), \"..\")))"
   ]
  },
  {
   "cell_type": "code",
   "execution_count": 2,
   "metadata": {},
   "outputs": [],
   "source": [
    "mchirp = None\n",
    "if mchirp and mchirp > 22:\n",
    "    print(\"works\")"
   ]
  },
  {
   "cell_type": "code",
   "execution_count": 3,
   "metadata": {},
   "outputs": [],
   "source": [
    "from trigger_utils.trigger_utils import query_kowalski_ztf_queue\n",
    "import yaml\n",
    "import requests\n",
    "import json\n",
    "from astropy.time import Time\n",
    "\n",
    "with open(\"../config/Credentials.yaml\", \"r\") as file:\n",
    "    credentials = yaml.safe_load(file)\n",
    "fritztoken = credentials[\"fritz_token\"]\n",
    "ztf_allocation = credentials[\"allocation\"]\n",
    "kowalskiusername = credentials[\"kowalski_username\"]\n",
    "kowalskipassword = credentials[\"kowalski_password\"]"
   ]
  },
  {
   "cell_type": "markdown",
   "metadata": {},
   "source": [
    "# check ZTF queue"
   ]
  },
  {
   "cell_type": "code",
   "execution_count": 4,
   "metadata": {},
   "outputs": [
    {
     "data": {
      "text/plain": [
       "['Partnership_Plane_2025-07-29',\n",
       " 'Partnership_Plane_2025-07-31',\n",
       " 'Partnership_Plane_2025-08-02',\n",
       " 'Partnership_Plane_2025-08-04',\n",
       " 'Twilight_2025-07-24_e',\n",
       " 'Twilight_2025-07-24_m',\n",
       " 'Twilight_2025-07-25_e',\n",
       " 'Twilight_2025-07-25_m',\n",
       " 'Twilight_2025-07-26_e',\n",
       " 'Twilight_2025-07-26_m',\n",
       " 'Twilight_2025-07-27_e',\n",
       " 'Twilight_2025-07-27_m',\n",
       " 'Twilight_2025-07-28_e',\n",
       " 'Twilight_2025-07-28_m',\n",
       " 'Twilight_2025-07-29_e',\n",
       " 'Twilight_2025-07-29_m',\n",
       " 'Twilight_2025-07-30_e',\n",
       " 'Twilight_2025-07-30_m',\n",
       " 'Twilight_2025-07-31_e',\n",
       " 'Twilight_2025-07-31_m',\n",
       " 'Twilight_2025-08-01_e',\n",
       " 'Twilight_2025-08-01_m',\n",
       " 'Twilight_2025-08-02_e',\n",
       " 'Twilight_2025-08-02_m',\n",
       " 'Twilight_2025-08-03_e',\n",
       " 'Twilight_2025-08-03_m',\n",
       " 'Twilight_2025-08-04_e',\n",
       " 'Twilight_2025-08-04_m',\n",
       " 'default',\n",
       " 'fallback',\n",
       " 'missed_obs']"
      ]
     },
     "execution_count": 4,
     "metadata": {},
     "output_type": "execute_result"
    }
   ],
   "source": [
    "# print the current queue\n",
    "\n",
    "current_ztf_queue = query_kowalski_ztf_queue(None, fritztoken, ztf_allocation)\n",
    "current_ztf_queue"
   ]
  },
  {
   "cell_type": "code",
   "execution_count": 4,
   "metadata": {},
   "outputs": [
    {
     "name": "stdout",
     "output_type": "stream",
     "text": [
      "Already submitted to queue\n",
      "Total time: 2940, probability: 0.7988238394848364\n"
     ]
    }
   ],
   "source": [
    "# get plan stats\n",
    "\n",
    "from trigger_utils.trigger_utils import get_plan_stats\n",
    "\n",
    "# get a specific plan\n",
    "gcnevent_id = 13342\n",
    "queuename = \"S250319bu_BBHBot_2025-04-03 01:18:21.260\"\n",
    "stats = get_plan_stats(gcnevent_id, queuename, fritztoken, mode=\"\")"
   ]
  },
  {
   "cell_type": "markdown",
   "metadata": {},
   "source": [
    "# check ZTF executed observations"
   ]
  },
  {
   "cell_type": "code",
   "execution_count": 6,
   "metadata": {},
   "outputs": [
    {
     "data": {
      "text/plain": [
       "<module 'trigger_utils.trigger_utils' from '/home/kira/mypy/repos/BBHBot/trigger_utils/trigger_utils.py'>"
      ]
     },
     "execution_count": 6,
     "metadata": {},
     "output_type": "execute_result"
    }
   ],
   "source": [
    "import importlib\n",
    "import sys\n",
    "\n",
    "importlib.reload(sys.modules[\"trigger_utils.trigger_utils\"])"
   ]
  },
  {
   "cell_type": "code",
   "execution_count": 13,
   "metadata": {},
   "outputs": [
    {
     "name": "stdout",
     "output_type": "stream",
     "text": [
      "found 1313 exposures of 420 unique fields between JD 2460774 and 2460776\n",
      "found 50 / 76 fields observed in time period\n",
      "0.6578947368421053\n"
     ]
    }
   ],
   "source": [
    "from trigger_utils.trigger_utils import SkymapCoverage\n",
    "\n",
    "# example skymap coverage calculation\n",
    "dateobs = \"2025-03-19T06:25:36\"\n",
    "jdstart = Time(\"2025-07-11T00:00:00\").jd - 2\n",
    "jdend = jdstart + 2\n",
    "skymap = \"bayestar.multiorder.fits,2\"\n",
    "\n",
    "coverage = SkymapCoverage(\n",
    "    startdate=jdstart,\n",
    "    enddate=jdend,\n",
    "    localdateobs=dateobs,\n",
    "    localname=skymap,\n",
    "    localprob=0.9,\n",
    "    fritz_token=fritztoken,\n",
    "    kowalski_username=kowalskiusername,\n",
    "    kowalski_password=kowalskipassword,\n",
    ")\n",
    "\n",
    "frac = coverage.get_coverage_fraction()\n",
    "print(frac)"
   ]
  },
  {
   "cell_type": "code",
   "execution_count": 9,
   "metadata": {},
   "outputs": [
    {
     "name": "stdout",
     "output_type": "stream",
     "text": [
      "76\n"
     ]
    }
   ],
   "source": [
    "headers = {\"Authorization\": f\"token {fritztoken}\"}\n",
    "endpoint = f\"https://fritz.science/api/instrument/1?localizationDateobs={dateobs}&localizationName={skymap}&localizationCumprob={0.9}\"\n",
    "response = requests.request(\"GET\", endpoint, headers=headers)\n",
    "if response.status_code != 200:\n",
    "    raise Exception(\n",
    "        f\"API call to ZTF queue failed with status code {response.status_code}. \"\n",
    "        f\"Response: {response.text}. Endpoint: {endpoint}\"\n",
    "    )\n",
    "json_string = response.content.decode(\"utf-8\")\n",
    "json_data = json.loads(json_string)\n",
    "fields = [\n",
    "    x[\"field_id\"]\n",
    "    for x in json_data[\"data\"][\"fields\"]\n",
    "    if x[\"instrument_id\"] == 1 and 220 < x[\"field_id\"] < 880 and x[\"dec\"] > -30\n",
    "]\n",
    "print(len(fields))"
   ]
  },
  {
   "cell_type": "code",
   "execution_count": null,
   "metadata": {},
   "outputs": [],
   "source": [
    "# TODO: function to print table of observations overlapping skymap given a time period\n",
    "# TODO: plot observations on GW skymap localization (color bar based on number of observations in each field)"
   ]
  },
  {
   "cell_type": "markdown",
   "metadata": {},
   "source": [
    "# crossmatch analysis"
   ]
  },
  {
   "cell_type": "code",
   "execution_count": null,
   "metadata": {},
   "outputs": [],
   "source": [
    "from astropy.io import fits"
   ]
  },
  {
   "cell_type": "code",
   "execution_count": null,
   "metadata": {},
   "outputs": [],
   "source": [
    "def get_cones(path, cumprob):  # path or file-like object\n",
    "    # max_order = None\n",
    "    with fits.open(path) as hdul:\n",
    "        hdul[1].columns\n",
    "        data = hdul[1].data\n",
    "    return data"
   ]
  },
  {
   "cell_type": "code",
   "execution_count": null,
   "metadata": {},
   "outputs": [],
   "source": [
    "# https://github.com/dmitryduev/penquins/pull/21/files\n",
    "# https://github.com/Theodlz/penquins/blob/abb7e9c87f8df3061315b0ce59174536e19db529/penquins/penquins.py"
   ]
  },
  {
   "cell_type": "code",
   "execution_count": null,
   "metadata": {},
   "outputs": [],
   "source": []
  },
  {
   "cell_type": "code",
   "execution_count": null,
   "metadata": {},
   "outputs": [],
   "source": []
  },
  {
   "cell_type": "code",
   "execution_count": null,
   "metadata": {},
   "outputs": [],
   "source": []
  },
  {
   "cell_type": "markdown",
   "metadata": {},
   "source": [
    "# other"
   ]
  },
  {
   "cell_type": "code",
   "execution_count": 1,
   "metadata": {},
   "outputs": [],
   "source": [
    "import pandas as pd"
   ]
  },
  {
   "cell_type": "code",
   "execution_count": 14,
   "metadata": {},
   "outputs": [],
   "source": [
    "df = pd.read_csv(\"../data/trigger_data/triggered_events.csv\")\n",
    "superevent_id = \"S250319bu\"  #'S250712cd'\n",
    "triggered = (\n",
    "    superevent_id in df[\"superevent_id\"].values\n",
    "    and df.loc[df[\"superevent_id\"] == superevent_id, \"pending_observation\"].any()\n",
    ")\n",
    "if triggered:\n",
    "    pending = df[df[\"superevent_id\"] == superevent_id][\"pending_observation\"].values[0]\n",
    "    trigger_plan_id = int(pending.strip(\"()\").split(\",\")[0])\n",
    "else:\n",
    "    trigger_plan_id = None"
   ]
  },
  {
   "cell_type": "code",
   "execution_count": null,
   "metadata": {},
   "outputs": [],
   "source": []
  }
 ],
 "metadata": {
  "kernelspec": {
   "display_name": "base",
   "language": "python",
   "name": "python3"
  },
  "language_info": {
   "codemirror_mode": {
    "name": "ipython",
    "version": 3
   },
   "file_extension": ".py",
   "mimetype": "text/x-python",
   "name": "python",
   "nbconvert_exporter": "python",
   "pygments_lexer": "ipython3",
   "version": "3.12.3"
  }
 },
 "nbformat": 4,
 "nbformat_minor": 2
}
